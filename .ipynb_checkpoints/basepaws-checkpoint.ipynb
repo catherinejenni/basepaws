{
 "cells": [
  {
   "cell_type": "code",
   "execution_count": 1,
   "metadata": {
    "scrolled": true
   },
   "outputs": [
    {
     "ename": "FileNotFoundError",
     "evalue": "[Errno 2] No such file or directory: 'survey.tab'",
     "output_type": "error",
     "traceback": [
      "\u001b[0;31m---------------------------------------------------------------------------\u001b[0m",
      "\u001b[0;31mFileNotFoundError\u001b[0m                         Traceback (most recent call last)",
      "\u001b[0;32m<ipython-input-1-ef26eb7aa6c4>\u001b[0m in \u001b[0;36m<module>\u001b[0;34m\u001b[0m\n\u001b[1;32m      5\u001b[0m \u001b[0mmissed_rows\u001b[0m \u001b[0;34m=\u001b[0m \u001b[0mdict\u001b[0m\u001b[0;34m(\u001b[0m\u001b[0;34m)\u001b[0m\u001b[0;34m\u001b[0m\u001b[0;34m\u001b[0m\u001b[0m\n\u001b[1;32m      6\u001b[0m \u001b[0;34m\u001b[0m\u001b[0m\n\u001b[0;32m----> 7\u001b[0;31m \u001b[0;32mwith\u001b[0m \u001b[0mopen\u001b[0m\u001b[0;34m(\u001b[0m\u001b[0;34m'survey.tab'\u001b[0m\u001b[0;34m)\u001b[0m \u001b[0;32mas\u001b[0m \u001b[0mfile\u001b[0m\u001b[0;34m:\u001b[0m\u001b[0;34m\u001b[0m\u001b[0;34m\u001b[0m\u001b[0m\n\u001b[0m\u001b[1;32m      8\u001b[0m     \u001b[0mreader\u001b[0m \u001b[0;34m=\u001b[0m \u001b[0mcsv\u001b[0m\u001b[0;34m.\u001b[0m\u001b[0mreader\u001b[0m\u001b[0;34m(\u001b[0m\u001b[0mfile\u001b[0m\u001b[0;34m,\u001b[0m \u001b[0mdelimiter\u001b[0m\u001b[0;34m=\u001b[0m\u001b[0;34m'\\t'\u001b[0m\u001b[0;34m)\u001b[0m\u001b[0;34m\u001b[0m\u001b[0;34m\u001b[0m\u001b[0m\n\u001b[1;32m      9\u001b[0m     \u001b[0mcounter\u001b[0m \u001b[0;34m=\u001b[0m \u001b[0;36m0\u001b[0m\u001b[0;34m\u001b[0m\u001b[0;34m\u001b[0m\u001b[0m\n",
      "\u001b[0;31mFileNotFoundError\u001b[0m: [Errno 2] No such file or directory: 'survey.tab'"
     ]
    }
   ],
   "source": [
    "import csv\n",
    "\n",
    "questions = [] \n",
    "answers = []\n",
    "missed_rows = dict()\n",
    "\n",
    "with open('survey.tab') as file:\n",
    "    reader = csv.reader(file, delimiter='\\t') \n",
    "    counter = 0\n",
    "    for row in reader:\n",
    "        try:\n",
    "            if row[0]=='QUES':\n",
    "                question = dict()\n",
    "                question['row_count'] = counter\n",
    "                question['platform'] = row[1]\n",
    "                question['q_id'] = row[2]\n",
    "                question['text'] = row[3]\n",
    "                question['answers'] = row[4:]\n",
    "                questions.append(question)\n",
    "            elif row[0]=='RES':\n",
    "                answer = dict()\n",
    "                answer['row_count'] = counter\n",
    "                answer['platform'] = row[1]\n",
    "                answer['cat_id'] = row[2]\n",
    "                answer['q_id'] = row[3]\n",
    "                answer['text'] = row[4:]\n",
    "                answers.append(answer)\n",
    "            elif row[0]=='STAT':\n",
    "                print('GENERAL STATISTICS ABOUT FILE')\n",
    "                print(counter, row)\n",
    "            else:\n",
    "                # row[0] since all missed rows have len < 1\n",
    "                missed_rows[counter] = row[0] \n",
    "                print(counter, row)\n",
    "            counter += 1\n",
    "        except IndexError:\n",
    "            pass"
   ]
  },
  {
   "cell_type": "code",
   "execution_count": null,
   "metadata": {},
   "outputs": [],
   "source": [
    "answers[answers.row_count == 19363]"
   ]
  },
  {
   "cell_type": "code",
   "execution_count": null,
   "metadata": {
    "scrolled": false
   },
   "outputs": [],
   "source": [
    "answers = pd.DataFrame(answers)\n",
    "questions = pd.DataFrame(questions)"
   ]
  },
  {
   "cell_type": "code",
   "execution_count": null,
   "metadata": {},
   "outputs": [],
   "source": [
    "for k,v in missed_rows.items():\n",
    "    display(answers[answers.row_count == (k-1)])"
   ]
  },
  {
   "cell_type": "code",
   "execution_count": null,
   "metadata": {},
   "outputs": [],
   "source": [
    "answers[answers['index'] == 4658]"
   ]
  },
  {
   "cell_type": "code",
   "execution_count": null,
   "metadata": {},
   "outputs": [],
   "source": [
    "questions[questions['q_id'] == 'rlV5VHNWb18l']"
   ]
  },
  {
   "cell_type": "code",
   "execution_count": null,
   "metadata": {},
   "outputs": [],
   "source": [
    "with open('survey.tab') as file:\n",
    "    reader = csv.reader(file, delimiter='\\t') \n",
    "    for row in reader:\n",
    "        print(row)"
   ]
  }
 ],
 "metadata": {
  "kernelspec": {
   "display_name": "Python 3",
   "language": "python",
   "name": "python3"
  },
  "language_info": {
   "codemirror_mode": {
    "name": "ipython",
    "version": 3
   },
   "file_extension": ".py",
   "mimetype": "text/x-python",
   "name": "python",
   "nbconvert_exporter": "python",
   "pygments_lexer": "ipython3",
   "version": "3.7.4"
  }
 },
 "nbformat": 4,
 "nbformat_minor": 4
}
